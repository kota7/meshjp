{
 "cells": [
  {
   "cell_type": "code",
   "execution_count": 1,
   "metadata": {
    "ExecuteTime": {
     "end_time": "2018-12-08T14:25:48.512058Z",
     "start_time": "2018-12-08T14:25:48.485003Z"
    }
   },
   "outputs": [],
   "source": [
    "%load_ext autoreload\n",
    "%autoreload 2"
   ]
  },
  {
   "cell_type": "code",
   "execution_count": 2,
   "metadata": {
    "ExecuteTime": {
     "end_time": "2018-12-08T14:25:49.508455Z",
     "start_time": "2018-12-08T14:25:48.515211Z"
    }
   },
   "outputs": [],
   "source": [
    "from IPython.display import clear_output\n",
    "import matplotlib.pyplot as plt\n",
    "import mplleaflet\n",
    "import shapely\n",
    "from geopandas.plotting import plot_polygon_collection\n",
    "from meshjp import *\n",
    "\n",
    "%matplotlib inline"
   ]
  },
  {
   "cell_type": "markdown",
   "metadata": {},
   "source": [
    "# Find mesh code from longitude, latitude"
   ]
  },
  {
   "cell_type": "code",
   "execution_count": 3,
   "metadata": {
    "ExecuteTime": {
     "end_time": "2018-12-08T14:25:49.538874Z",
     "start_time": "2018-12-08T14:25:49.511601Z"
    }
   },
   "outputs": [
    {
     "data": {
      "text/plain": [
       "533946403"
      ]
     },
     "execution_count": 3,
     "metadata": {},
     "output_type": "execute_result"
    }
   ],
   "source": [
    "meshcode = containing_mesh(139.7514729, 35.7055263, level=\"500m\")\n",
    "meshcode"
   ]
  },
  {
   "cell_type": "markdown",
   "metadata": {
    "ExecuteTime": {
     "end_time": "2018-12-07T20:54:09.152238Z",
     "start_time": "2018-12-07T20:54:09.109848Z"
    }
   },
   "source": [
    "# Find coordinate from meshcode"
   ]
  },
  {
   "cell_type": "code",
   "execution_count": 4,
   "metadata": {
    "ExecuteTime": {
     "end_time": "2018-12-08T14:25:49.623070Z",
     "start_time": "2018-12-08T14:25:49.542051Z"
    }
   },
   "outputs": [
    {
     "data": {
      "text/plain": [
       "(139.75, 35.70416666666667, 139.75625, 35.70833333333334)"
      ]
     },
     "execution_count": 4,
     "metadata": {},
     "output_type": "execute_result"
    }
   ],
   "source": [
    "coord = mesh_coord(meshcode)\n",
    "coord"
   ]
  },
  {
   "cell_type": "markdown",
   "metadata": {},
   "source": [
    "# Plot on an interactive map\n",
    "\n",
    "With [shapely](https://pypi.org/project/Shapely/), [geopandas](https://pypi.org/project/geopandas/) and [mplleaflet](https://pypi.org/project/mplleaflet/) libraries."
   ]
  },
  {
   "cell_type": "code",
   "execution_count": 5,
   "metadata": {
    "ExecuteTime": {
     "end_time": "2018-12-08T14:25:49.723671Z",
     "start_time": "2018-12-08T14:25:49.627062Z"
    }
   },
   "outputs": [
    {
     "name": "stdout",
     "output_type": "stream",
     "text": [
      "(array('d', [139.75625, 139.75625, 139.75, 139.75, 139.75625]), array('d', [35.70416666666667, 35.70833333333334, 35.70833333333334, 35.70416666666667, 35.70416666666667]))\n"
     ]
    },
    {
     "data": {
      "image/svg+xml": [
       "<svg xmlns=\"http://www.w3.org/2000/svg\" xmlns:xlink=\"http://www.w3.org/1999/xlink\" width=\"100.0\" height=\"100.0\" viewBox=\"139.74975 35.70391666666667 0.006749999999982492 0.00466666666667237\" preserveAspectRatio=\"xMinYMin meet\"><g transform=\"matrix(1,0,0,-1,0,71.41250000000002)\"><path fill-rule=\"evenodd\" fill=\"#66cc99\" stroke=\"#555555\" stroke-width=\"0.00013499999999964983\" opacity=\"0.6\" d=\"M 139.75625,35.70416666666667 L 139.75625,35.70833333333334 L 139.75,35.70833333333334 L 139.75,35.70416666666667 L 139.75625,35.70416666666667 z\" /></g></svg>"
      ],
      "text/plain": [
       "<shapely.geometry.polygon.Polygon at 0x7fb40cb220b8>"
      ]
     },
     "execution_count": 5,
     "metadata": {},
     "output_type": "execute_result"
    }
   ],
   "source": [
    "g = shapely.geometry.box(*coord)\n",
    "print(g.exterior.xy)\n",
    "g"
   ]
  },
  {
   "cell_type": "code",
   "execution_count": 6,
   "metadata": {
    "ExecuteTime": {
     "end_time": "2018-12-08T14:25:49.978645Z",
     "start_time": "2018-12-08T14:25:49.726705Z"
    }
   },
   "outputs": [
    {
     "data": {
      "text/html": [
       "<iframe src=\"data:text/html;base64,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\" width=\"100%\" height=\"240\"></iframe>"
      ],
      "text/plain": [
       "<IPython.core.display.HTML object>"
      ]
     },
     "execution_count": 6,
     "metadata": {},
     "output_type": "execute_result"
    }
   ],
   "source": [
    "fig, ax = plt.subplots()\n",
    "plot_polygon_collection(ax, [g], edgecolor=\"#333333\", facecolor=\"#00ffff\")\n",
    "clear_output()\n",
    "\n",
    "mplleaflet.display(fig)"
   ]
  },
  {
   "cell_type": "markdown",
   "metadata": {},
   "source": [
    "# Find the mesh areas that cover a geometry object"
   ]
  },
  {
   "cell_type": "code",
   "execution_count": 7,
   "metadata": {
    "ExecuteTime": {
     "end_time": "2018-12-08T14:25:50.023313Z",
     "start_time": "2018-12-08T14:25:49.982556Z"
    }
   },
   "outputs": [
    {
     "data": {
      "image/svg+xml": [
       "<svg xmlns=\"http://www.w3.org/2000/svg\" xmlns:xlink=\"http://www.w3.org/1999/xlink\" width=\"100.0\" height=\"100.0\" viewBox=\"139.74991171360017 35.70377456474219 0.004530572891212614 0.0037942982111971446\" preserveAspectRatio=\"xMinYMin meet\"><g transform=\"matrix(1,0,0,-1,0,71.41134342769558)\"><path fill-rule=\"evenodd\" fill=\"#66cc99\" stroke=\"#555555\" stroke-width=\"9.061145782425228e-05\" opacity=\"0.6\" d=\"M 139.75403845310208,35.70740106395741 L 139.7508305311203,35.707309588931416 L 139.75007951259613,35.70476131387285 L 139.75265979766846,35.703942363738165 L 139.7538185119629,35.70414710206052 L 139.75427448749542,35.70596358712732 L 139.75403845310208,35.70740106395741 z\" /></g></svg>"
      ],
      "text/plain": [
       "<shapely.geometry.polygon.Polygon at 0x7fb40cb226d8>"
      ]
     },
     "execution_count": 7,
     "metadata": {},
     "output_type": "execute_result"
    }
   ],
   "source": [
    "g = shapely.geometry.Polygon([\n",
    "    [139.75403845310208, 35.70740106395741],\n",
    "    [139.7508305311203, 35.707309588931416],\n",
    "    [139.75007951259613, 35.70476131387285],\n",
    "    [139.75265979766846, 35.703942363738165],\n",
    "    [139.7538185119629, 35.70414710206052],\n",
    "    [139.75427448749542, 35.70596358712732],\n",
    "    [139.75403845310208, 35.70740106395741]\n",
    "])\n",
    "g"
   ]
  },
  {
   "cell_type": "code",
   "execution_count": 8,
   "metadata": {
    "ExecuteTime": {
     "end_time": "2018-12-08T14:25:50.242341Z",
     "start_time": "2018-12-08T14:25:50.028119Z"
    }
   },
   "outputs": [
    {
     "data": {
      "text/html": [
       "<iframe src=\"data:text/html;base64,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\" width=\"100%\" height=\"240\"></iframe>"
      ],
      "text/plain": [
       "<IPython.core.display.HTML object>"
      ]
     },
     "execution_count": 8,
     "metadata": {},
     "output_type": "execute_result"
    }
   ],
   "source": [
    "fig, ax = plt.subplots()\n",
    "plot_polygon_collection(ax, [g])\n",
    "clear_output()\n",
    "\n",
    "mplleaflet.display(fig)"
   ]
  },
  {
   "cell_type": "code",
   "execution_count": 9,
   "metadata": {
    "ExecuteTime": {
     "end_time": "2018-12-08T14:25:50.269764Z",
     "start_time": "2018-12-08T14:25:50.244713Z"
    }
   },
   "outputs": [
    {
     "data": {
      "text/plain": [
       "[53394640311,\n",
       " 53394640313,\n",
       " 53394640331,\n",
       " 53394640333,\n",
       " 53394640134,\n",
       " 53394640312,\n",
       " 53394640314,\n",
       " 53394640332,\n",
       " 53394640334,\n",
       " 53394640143,\n",
       " 53394640321,\n",
       " 53394640323,\n",
       " 53394640341,\n",
       " 53394640343]"
      ]
     },
     "execution_count": 9,
     "metadata": {},
     "output_type": "execute_result"
    }
   ],
   "source": [
    "meshes = mesh_cover(g, level=\"125m\")\n",
    "meshes"
   ]
  },
  {
   "cell_type": "code",
   "execution_count": 10,
   "metadata": {
    "ExecuteTime": {
     "end_time": "2018-12-08T14:25:50.367881Z",
     "start_time": "2018-12-08T14:25:50.273449Z"
    }
   },
   "outputs": [
    {
     "data": {
      "text/plain": [
       "(array([139.75     , 139.75     , 139.75     , 139.75     , 139.7515625,\n",
       "        139.7515625, 139.7515625, 139.7515625, 139.7515625, 139.753125 ,\n",
       "        139.753125 , 139.753125 , 139.753125 , 139.753125 ]),\n",
       " array([35.70416667, 35.70520833, 35.70625   , 35.70729167, 35.703125  ,\n",
       "        35.70416667, 35.70520833, 35.70625   , 35.70729167, 35.703125  ,\n",
       "        35.70416667, 35.70520833, 35.70625   , 35.70729167]),\n",
       " array([139.7515625, 139.7515625, 139.7515625, 139.7515625, 139.753125 ,\n",
       "        139.753125 , 139.753125 , 139.753125 , 139.753125 , 139.7546875,\n",
       "        139.7546875, 139.7546875, 139.7546875, 139.7546875]),\n",
       " array([35.70520833, 35.70625   , 35.70729167, 35.70833333, 35.70416667,\n",
       "        35.70520833, 35.70625   , 35.70729167, 35.70833333, 35.70416667,\n",
       "        35.70520833, 35.70625   , 35.70729167, 35.70833333]))"
      ]
     },
     "execution_count": 10,
     "metadata": {},
     "output_type": "execute_result"
    }
   ],
   "source": [
    "coords = mesh_coord(meshes)\n",
    "coords"
   ]
  },
  {
   "cell_type": "code",
   "execution_count": 11,
   "metadata": {
    "ExecuteTime": {
     "end_time": "2018-12-08T14:25:50.457872Z",
     "start_time": "2018-12-08T14:25:50.370530Z"
    }
   },
   "outputs": [
    {
     "data": {
      "text/plain": [
       "[<shapely.geometry.polygon.Polygon at 0x7fb4029440b8>,\n",
       " <shapely.geometry.polygon.Polygon at 0x7fb402944240>,\n",
       " <shapely.geometry.polygon.Polygon at 0x7fb402944b00>,\n",
       " <shapely.geometry.polygon.Polygon at 0x7fb4029444a8>,\n",
       " <shapely.geometry.polygon.Polygon at 0x7fb4029442b0>,\n",
       " <shapely.geometry.polygon.Polygon at 0x7fb402944390>,\n",
       " <shapely.geometry.polygon.Polygon at 0x7fb402944198>,\n",
       " <shapely.geometry.polygon.Polygon at 0x7fb4029440f0>,\n",
       " <shapely.geometry.polygon.Polygon at 0x7fb402944dd8>,\n",
       " <shapely.geometry.polygon.Polygon at 0x7fb402944278>,\n",
       " <shapely.geometry.polygon.Polygon at 0x7fb4029444e0>,\n",
       " <shapely.geometry.polygon.Polygon at 0x7fb402944320>,\n",
       " <shapely.geometry.polygon.Polygon at 0x7fb4029441d0>,\n",
       " <shapely.geometry.polygon.Polygon at 0x7fb402944080>]"
      ]
     },
     "execution_count": 11,
     "metadata": {},
     "output_type": "execute_result"
    }
   ],
   "source": [
    "rects = [shapely.geometry.box(*c) for c in zip(*coords)]\n",
    "rects"
   ]
  },
  {
   "cell_type": "code",
   "execution_count": 12,
   "metadata": {
    "ExecuteTime": {
     "end_time": "2018-12-08T14:25:50.659218Z",
     "start_time": "2018-12-08T14:25:50.466103Z"
    }
   },
   "outputs": [
    {
     "data": {
      "text/html": [
       "<iframe src=\"data:text/html;base64,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\" width=\"100%\" height=\"240\"></iframe>"
      ],
      "text/plain": [
       "<IPython.core.display.HTML object>"
      ]
     },
     "execution_count": 12,
     "metadata": {},
     "output_type": "execute_result"
    }
   ],
   "source": [
    "fig, ax = plt.subplots()\n",
    "plot_polygon_collection(ax, [g])\n",
    "plot_polygon_collection(ax, rects, edgecolor=\"#555555\", facecolor=\"#aaaa00\")\n",
    "clear_output()\n",
    "\n",
    "mplleaflet.display(fig)"
   ]
  },
  {
   "cell_type": "markdown",
   "metadata": {},
   "source": [
    "# Find mesh areas inside a geometry"
   ]
  },
  {
   "cell_type": "code",
   "execution_count": 13,
   "metadata": {
    "ExecuteTime": {
     "end_time": "2018-12-08T14:25:50.695428Z",
     "start_time": "2018-12-08T14:25:50.662448Z"
    }
   },
   "outputs": [
    {
     "data": {
      "text/plain": [
       "[53394640314, 53394640332]"
      ]
     },
     "execution_count": 13,
     "metadata": {},
     "output_type": "execute_result"
    }
   ],
   "source": [
    "meshes = contained_mesh(g, level=\"125m\")\n",
    "meshes"
   ]
  },
  {
   "cell_type": "code",
   "execution_count": 14,
   "metadata": {
    "ExecuteTime": {
     "end_time": "2018-12-08T14:25:50.820425Z",
     "start_time": "2018-12-08T14:25:50.699811Z"
    }
   },
   "outputs": [],
   "source": [
    "coords = mesh_coord(meshes)\n",
    "rects = [shapely.geometry.box(*c) for c in zip(*coords)]"
   ]
  },
  {
   "cell_type": "code",
   "execution_count": 15,
   "metadata": {
    "ExecuteTime": {
     "end_time": "2018-12-08T14:25:51.050454Z",
     "start_time": "2018-12-08T14:25:50.824451Z"
    }
   },
   "outputs": [
    {
     "data": {
      "text/html": [
       "<iframe src=\"data:text/html;base64,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\" width=\"100%\" height=\"240\"></iframe>"
      ],
      "text/plain": [
       "<IPython.core.display.HTML object>"
      ]
     },
     "execution_count": 15,
     "metadata": {},
     "output_type": "execute_result"
    }
   ],
   "source": [
    "fig, ax = plt.subplots()\n",
    "plot_polygon_collection(ax, [g], facecolor=\"#111111\")\n",
    "plot_polygon_collection(ax, rects, edgecolor=\"#555555\", facecolor=\"#aaaa00\")\n",
    "clear_output()\n",
    "\n",
    "mplleaflet.display(fig)"
   ]
  },
  {
   "cell_type": "code",
   "execution_count": null,
   "metadata": {},
   "outputs": [],
   "source": []
  }
 ],
 "metadata": {
  "kernelspec": {
   "display_name": "Python 3",
   "language": "python",
   "name": "python3"
  },
  "language_info": {
   "codemirror_mode": {
    "name": "ipython",
    "version": 3
   },
   "file_extension": ".py",
   "mimetype": "text/x-python",
   "name": "python",
   "nbconvert_exporter": "python",
   "pygments_lexer": "ipython3",
   "version": "3.6.6"
  },
  "toc": {
   "base_numbering": 1,
   "nav_menu": {},
   "number_sections": true,
   "sideBar": true,
   "skip_h1_title": false,
   "title_cell": "Table of Contents",
   "title_sidebar": "Contents",
   "toc_cell": false,
   "toc_position": {},
   "toc_section_display": true,
   "toc_window_display": true
  }
 },
 "nbformat": 4,
 "nbformat_minor": 2
}
